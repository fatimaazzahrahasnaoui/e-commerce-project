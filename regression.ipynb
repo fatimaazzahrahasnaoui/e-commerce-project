{
 "cells": [
  {
   "cell_type": "code",
   "execution_count": 6,
   "metadata": {},
   "outputs": [
    {
     "name": "stdout",
     "output_type": "stream",
     "text": [
      "Classification Report:\n",
      "              precision    recall  f1-score   support\n",
      "\n",
      "           0       0.67      1.00      0.80     72164\n",
      "           1       0.00      0.00      0.00     36218\n",
      "\n",
      "    accuracy                           0.67    108382\n",
      "   macro avg       0.33      0.50      0.40    108382\n",
      "weighted avg       0.44      0.67      0.53    108382\n",
      "\n",
      "ROC-AUC Score: 0.49954599909375585\n"
     ]
    },
    {
     "name": "stderr",
     "output_type": "stream",
     "text": [
      "c:\\Users\\Hp 14s\\AppData\\Local\\Programs\\Python\\Python310\\lib\\site-packages\\sklearn\\metrics\\_classification.py:1509: UndefinedMetricWarning: Precision is ill-defined and being set to 0.0 in labels with no predicted samples. Use `zero_division` parameter to control this behavior.\n",
      "  _warn_prf(average, modifier, f\"{metric.capitalize()} is\", len(result))\n",
      "c:\\Users\\Hp 14s\\AppData\\Local\\Programs\\Python\\Python310\\lib\\site-packages\\sklearn\\metrics\\_classification.py:1509: UndefinedMetricWarning: Precision is ill-defined and being set to 0.0 in labels with no predicted samples. Use `zero_division` parameter to control this behavior.\n",
      "  _warn_prf(average, modifier, f\"{metric.capitalize()} is\", len(result))\n",
      "c:\\Users\\Hp 14s\\AppData\\Local\\Programs\\Python\\Python310\\lib\\site-packages\\sklearn\\metrics\\_classification.py:1509: UndefinedMetricWarning: Precision is ill-defined and being set to 0.0 in labels with no predicted samples. Use `zero_division` parameter to control this behavior.\n",
      "  _warn_prf(average, modifier, f\"{metric.capitalize()} is\", len(result))\n"
     ]
    }
   ],
   "source": [
    "import pandas as pd\n",
    "from sklearn.model_selection import train_test_split\n",
    "from sklearn.preprocessing import StandardScaler, LabelEncoder\n",
    "from sklearn.linear_model import LogisticRegression\n",
    "from sklearn.metrics import classification_report, roc_auc_score\n",
    "\n",
    "# Load data\n",
    "data = pd.read_csv(\"DATA/data_commerce.csv\")\n",
    "\n",
    "# Encode target variable\n",
    "data['Status'] = data['Status'].map({'Delivered': 1, 'Cancelled': 0, 'Pending': 0})\n",
    "\n",
    "# Convert dates to datetime\n",
    "data['InvoiceDate'] = pd.to_datetime(data['InvoiceDate'])\n",
    "data['RegistrationDate'] = pd.to_datetime(data['RegistrationDate'])\n",
    "\n",
    "# Feature engineering: Days since registration\n",
    "data['DaysSinceRegistration'] = (data['InvoiceDate'] - data['RegistrationDate']).dt.days\n",
    "\n",
    "# Select features and target\n",
    "features = ['Quantity', 'UnitPrice', 'Age', 'Stock', 'Rating', 'DaysSinceRegistration']\n",
    "X = data[features]\n",
    "y = data['Status']\n",
    "\n",
    "# Split into training and test sets\n",
    "X_train, X_test, y_train, y_test = train_test_split(X, y, test_size=0.2, random_state=42)\n",
    "\n",
    "# Scale numeric features\n",
    "scaler = StandardScaler()\n",
    "X_train = scaler.fit_transform(X_train)\n",
    "X_test = scaler.transform(X_test)\n",
    "\n",
    "# Train logistic regression model\n",
    "model = LogisticRegression()\n",
    "model.fit(X_train, y_train)\n",
    "\n",
    "# Make predictions\n",
    "y_pred = model.predict(X_test)\n",
    "y_proba = model.predict_proba(X_test)[:, 1]\n",
    "\n",
    "# Evaluate model\n",
    "print(\"Classification Report:\")\n",
    "print(classification_report(y_test, y_pred))\n",
    "print(\"ROC-AUC Score:\", roc_auc_score(y_test, y_proba))\n"
   ]
  },
  {
   "cell_type": "code",
   "execution_count": 7,
   "metadata": {},
   "outputs": [
    {
     "name": "stdout",
     "output_type": "stream",
     "text": [
      "Model trained and saved!\n"
     ]
    }
   ],
   "source": [
    "import pandas as pd\n",
    "from sklearn.model_selection import train_test_split\n",
    "from sklearn.preprocessing import StandardScaler\n",
    "from sklearn.linear_model import LogisticRegression\n",
    "from sklearn.metrics import classification_report\n",
    "import joblib\n",
    "\n",
    "# Load data\n",
    "data = pd.read_csv(\"DATA/data_commerce.csv\")\n",
    "\n",
    "# Encode target variable\n",
    "data['Status'] = data['Status'].map({'Delivered': 1, 'Cancelled': 0, 'Pending': 0})\n",
    "\n",
    "# Convert dates to datetime\n",
    "data['InvoiceDate'] = pd.to_datetime(data['InvoiceDate'])\n",
    "data['RegistrationDate'] = pd.to_datetime(data['RegistrationDate'])\n",
    "\n",
    "# Feature engineering: Days since registration\n",
    "data['DaysSinceRegistration'] = (data['InvoiceDate'] - data['RegistrationDate']).dt.days\n",
    "\n",
    "# Select features and target\n",
    "features = ['Quantity', 'UnitPrice', 'Age', 'Stock', 'Rating', 'DaysSinceRegistration']\n",
    "X = data[features]\n",
    "y = data['Status']\n",
    "\n",
    "# Split into training and test sets\n",
    "X_train, X_test, y_train, y_test = train_test_split(X, y, test_size=0.2, random_state=42)\n",
    "\n",
    "# Scale numeric features\n",
    "scaler = StandardScaler()\n",
    "X_train = scaler.fit_transform(X_train)\n",
    "X_test = scaler.transform(X_test)\n",
    "\n",
    "# Train logistic regression model\n",
    "model = LogisticRegression()\n",
    "model.fit(X_train, y_train)\n",
    "\n",
    "# Save the model and scaler\n",
    "joblib.dump(model, \"logistic_model.pkl\")\n",
    "joblib.dump(scaler, \"scaler.pkl\")\n",
    "\n",
    "print(\"Model trained and saved!\")\n"
   ]
  },
  {
   "cell_type": "code",
   "execution_count": 8,
   "metadata": {},
   "outputs": [
    {
     "name": "stdout",
     "output_type": "stream",
     "text": [
      "Enter the details below:\n",
      "The customer is unlikely to purchase the product with a probability of 0.32.\n"
     ]
    },
    {
     "name": "stderr",
     "output_type": "stream",
     "text": [
      "c:\\Users\\Hp 14s\\AppData\\Local\\Programs\\Python\\Python310\\lib\\site-packages\\sklearn\\base.py:493: UserWarning: X does not have valid feature names, but StandardScaler was fitted with feature names\n",
      "  warnings.warn(\n"
     ]
    }
   ],
   "source": [
    "import joblib\n",
    "import numpy as np\n",
    "\n",
    "# Load the model and scaler\n",
    "model = joblib.load(\"logistic_model.pkl\")\n",
    "scaler = joblib.load(\"scaler.pkl\")\n",
    "\n",
    "# User input\n",
    "print(\"Enter the details below:\")\n",
    "quantity = float(input(\"Quantity: \"))\n",
    "unit_price = float(input(\"Unit Price: \"))\n",
    "age = int(input(\"Customer Age: \"))\n",
    "stock = int(input(\"Stock Available: \"))\n",
    "rating = float(input(\"Product Rating: \"))\n",
    "days_since_registration = int(input(\"Days Since Registration: \"))\n",
    "\n",
    "# Prepare input for prediction\n",
    "input_data = np.array([[quantity, unit_price, age, stock, rating, days_since_registration]])\n",
    "input_scaled = scaler.transform(input_data)\n",
    "\n",
    "# Predict\n",
    "probability = model.predict_proba(input_scaled)[0][1]  # Probability of purchase\n",
    "prediction = model.predict(input_scaled)[0]  # Binary prediction (0 or 1)\n",
    "\n",
    "# Output result\n",
    "if prediction == 1:\n",
    "    print(f\"The customer is likely to purchase the product with a probability of {probability:.2f}.\")\n",
    "else:\n",
    "    print(f\"The customer is unlikely to purchase the product with a probability of {probability:.2f}.\")\n"
   ]
  },
  {
   "cell_type": "markdown",
   "metadata": {},
   "source": [
    "###THE THIRD TRY"
   ]
  },
  {
   "cell_type": "code",
   "execution_count": 11,
   "metadata": {},
   "outputs": [
    {
     "name": "stdout",
     "output_type": "stream",
     "text": [
      "Model trained! Mean Absolute Error: 0.0\n"
     ]
    }
   ],
   "source": [
    "import pandas as pd\n",
    "from sklearn.model_selection import train_test_split\n",
    "from sklearn.preprocessing import StandardScaler\n",
    "from sklearn.ensemble import RandomForestRegressor\n",
    "from sklearn.metrics import mean_absolute_error\n",
    "import joblib\n",
    "\n",
    "# Load data\n",
    "data = pd.read_csv(\"DATA/data_commerce.csv\")\n",
    "\n",
    "# Convert dates to datetime\n",
    "data['InvoiceDate'] = pd.to_datetime(data['InvoiceDate'])\n",
    "data['RegistrationDate'] = pd.to_datetime(data['RegistrationDate'])\n",
    "\n",
    "# Feature engineering: Days since registration\n",
    "data['DaysSinceRegistration'] = (data['InvoiceDate'] - data['RegistrationDate']).dt.days\n",
    "\n",
    "# Select features and target (Stock needed in the future)\n",
    "features = ['Quantity', 'UnitPrice', 'Age', 'Stock', 'Rating', 'DaysSinceRegistration']\n",
    "target = 'Stock'\n",
    "\n",
    "X = data[features]\n",
    "y = data[target]\n",
    "\n",
    "# Split into training and test sets\n",
    "X_train, X_test, y_train, y_test = train_test_split(X, y, test_size=0.2, random_state=42)\n",
    "\n",
    "# Scale numeric features\n",
    "scaler = StandardScaler()\n",
    "X_train = scaler.fit_transform(X_train)\n",
    "X_test = scaler.transform(X_test)\n",
    "\n",
    "# Train regression model\n",
    "model = RandomForestRegressor()\n",
    "model.fit(X_train, y_train)\n",
    "\n",
    "# Save the model and scaler\n",
    "joblib.dump(model, \"stock_prediction_model.pkl\")\n",
    "joblib.dump(scaler, \"scaler2.pkl\")\n",
    "\n",
    "# Evaluate the model\n",
    "predictions = model.predict(X_test)\n",
    "mae = mean_absolute_error(y_test, predictions)\n",
    "print(f\"Model trained! Mean Absolute Error: {mae}\")\n"
   ]
  },
  {
   "cell_type": "code",
   "execution_count": 2,
   "metadata": {},
   "outputs": [
    {
     "name": "stdout",
     "output_type": "stream",
     "text": [
      "Enter the details below:\n"
     ]
    },
    {
     "name": "stdout",
     "output_type": "stream",
     "text": [
      "The predicted stock needed for the future is: 10.00 units.\n"
     ]
    },
    {
     "name": "stderr",
     "output_type": "stream",
     "text": [
      "c:\\Users\\Hp 14s\\AppData\\Local\\Programs\\Python\\Python310\\lib\\site-packages\\sklearn\\base.py:493: UserWarning: X does not have valid feature names, but StandardScaler was fitted with feature names\n",
      "  warnings.warn(\n"
     ]
    }
   ],
   "source": [
    "import joblib\n",
    "import numpy as np\n",
    "\n",
    "# Load the model and scaler\n",
    "model = joblib.load(\"stock_prediction_model.pkl\")\n",
    "scaler = joblib.load(\"scaler.pkl\")\n",
    "\n",
    "# User input\n",
    "print(\"Enter the details below:\")\n",
    "quantity = float(input(\"Quantity sold: \"))\n",
    "unit_price = float(input(\"Unit Price: \"))\n",
    "age = int(input(\"Customer Age: \"))\n",
    "stock = int(input(\"Current Stock: \"))\n",
    "rating = float(input(\"Product Rating: \"))\n",
    "days_since_registration = int(input(\"Days Since Registration: \"))\n",
    "\n",
    "# Prepare input for prediction\n",
    "input_data = np.array([[quantity, unit_price, age, stock, rating, days_since_registration]])\n",
    "input_scaled = scaler.transform(input_data)\n",
    "\n",
    "# Predict\n",
    "predicted_stock = model.predict(input_scaled)[0]\n",
    "\n",
    "# Output result\n",
    "print(f\"The predicted stock needed for the future is: {predicted_stock:.2f} units.\")\n"
   ]
  },
  {
   "cell_type": "code",
   "execution_count": null,
   "metadata": {},
   "outputs": [],
   "source": []
  }
 ],
 "metadata": {
  "kernelspec": {
   "display_name": "Python 3",
   "language": "python",
   "name": "python3"
  },
  "language_info": {
   "codemirror_mode": {
    "name": "ipython",
    "version": 3
   },
   "file_extension": ".py",
   "mimetype": "text/x-python",
   "name": "python",
   "nbconvert_exporter": "python",
   "pygments_lexer": "ipython3",
   "version": "3.10.2"
  }
 },
 "nbformat": 4,
 "nbformat_minor": 2
}
