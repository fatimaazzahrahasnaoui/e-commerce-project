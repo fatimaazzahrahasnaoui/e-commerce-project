{
 "cells": [
  {
   "cell_type": "code",
   "execution_count": null,
   "metadata": {},
   "outputs": [
    {
     "name": "stdout",
     "output_type": "stream",
     "text": [
      "  InvoiceNo StockCode                          Description  Quantity  \\\n",
      "0    536365    85123A   WHITE HANGING HEART T-LIGHT HOLDER         6   \n",
      "1    536365     71053                  WHITE METAL LANTERN         6   \n",
      "2    536365    84406B       CREAM CUPID HEARTS COAT HANGER         8   \n",
      "3    536365    84029G  KNITTED UNION FLAG HOT WATER BOTTLE         6   \n",
      "4    536365    84029E       RED WOOLLY HOTTIE WHITE HEART.         6   \n",
      "\n",
      "      InvoiceDate  UnitPrice  CustomerID         Country  Age  \\\n",
      "0  12/1/2010 8:26       2.55     17850.0  United Kingdom   20   \n",
      "1  12/1/2010 8:26       3.39     17850.0  United Kingdom   20   \n",
      "2  12/1/2010 8:26       2.75     17850.0  United Kingdom   45   \n",
      "3  12/1/2010 8:26       3.39     17850.0  United Kingdom   31   \n",
      "4  12/1/2010 8:26       3.39     17850.0  United Kingdom   19   \n",
      "\n",
      "          Location RegistrationDate     Category  Stock  Rating     Status  \n",
      "0         Lisaberg       2022-05-06     Clothing     18     4.8    Pending  \n",
      "1     Jessicahaven       2022-06-26  Electronics      9     3.9    Pending  \n",
      "2      Matthewbury       2023-01-09       Beauty     33     5.0  Delivered  \n",
      "3  North Kayleeton       2023-02-11  Electronics     86     4.2    Pending  \n",
      "4        Keithside       2023-01-27        Books     21     3.4  Cancelled  \n"
     ]
    }
   ],
   "source": [
    "import pandas as pd\n",
    "import numpy as np\n",
    "from faker import Faker\n",
    "import random\n",
    "\n",
    "\n",
    "df = pd.read_csv(\"DATA/uncleaned_data.csv\", encoding=\"ISO-8859-1\") \n",
    "fake = Faker()\n",
    "\n",
    "num_records = df.shape[0]\n",
    "\n",
    "df['Age'] = np.random.randint(18, 70, num_records)\n",
    "df['Location'] = [fake.city() for _ in range(num_records)]\n",
    "df['RegistrationDate'] = [fake.date_between(start_date='-3y', end_date='-1y') for _ in range(num_records)]\n",
    "df['Category'] = [random.choice(['Electronics', 'Clothing', 'Home', 'Toys', 'Books', 'Beauty']) for _ in range(num_records)]\n",
    "df['Stock'] = np.random.randint(1, 100, num_records)\n",
    "df['Rating'] = np.round(np.random.uniform(1.0, 5.0, num_records), 1)\n",
    "df['Status'] = [random.choice(['Delivered', 'Pending', 'Cancelled']) for _ in range(num_records)]\n",
    "\n",
    "print(df.head())\n",
    "\n",
    "df.to_csv(\"updated_ecommerce_data.csv\", index=False)\n"
   ]
  },
  {
   "cell_type": "code",
   "execution_count": null,
   "metadata": {},
   "outputs": [],
   "source": []
  }
 ],
 "metadata": {
  "kernelspec": {
   "display_name": "Python 3",
   "language": "python",
   "name": "python3"
  },
  "language_info": {
   "codemirror_mode": {
    "name": "ipython",
    "version": 3
   },
   "file_extension": ".py",
   "mimetype": "text/x-python",
   "name": "python",
   "nbconvert_exporter": "python",
   "pygments_lexer": "ipython3",
   "version": "3.10.2"
  }
 },
 "nbformat": 4,
 "nbformat_minor": 2
}
